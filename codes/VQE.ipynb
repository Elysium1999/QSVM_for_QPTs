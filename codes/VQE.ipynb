{
 "cells": [
  {
   "cell_type": "code",
   "execution_count": 1,
   "metadata": {},
   "outputs": [],
   "source": [
    "\"\"\"\n",
    "VQE\n",
    "\"\"\"\n",
    "\n",
    "import numpy as np\n",
    "from numpy import linalg\n",
    "from qiskit.providers.aer import AerSimulator\n",
    "from qiskit.algorithms.optimizers import COBYLA\n",
    "from qiskit.opflow import X,Z,I\n",
    "from qiskit.utils import QuantumInstance\n",
    "from qiskit.algorithms import VQE\n",
    "from qiskit.circuit.library import EfficientSU2\n",
    "from qiskit.quantum_info.operators import Operator\n",
    "\n",
    "#backend = BasicAer.get_backend('statevector_simulator')\n",
    "backend = AerSimulator(method='statevector')\n",
    "quantum_instance = QuantumInstance(backend=backend, seed_transpiler=1)\n",
    "#backend = Aer.get_backend(\"qasm_simulator\")\n",
    "\n",
    "#parametro per circuito di ansatz, quante volte si ripete il blocco\n",
    "reps = 1\n",
    "\n",
    "optimizer = COBYLA(tol=0.01)\n",
    "intermediate_info = dict()"
   ]
  },
  {
   "cell_type": "code",
   "execution_count": 2,
   "metadata": {},
   "outputs": [],
   "source": [
    "def Hamiltonian(N, J):\n",
    "    \"\"\" \n",
    "    given N number of sites in the Ising Chain and J as above.\n",
    "    Returns the Hamiltonian as sum of Pauli Operators\n",
    "    \"\"\"\n",
    "    \n",
    "    H = -J*(X^(I^N-2)^X) + (I^(N-1)^Z)\n",
    "    for i in range (N-1):\n",
    "        H += -J*((I^i)^(X^X)^(I^(N-2-i))) + ((I^i)^(Z)^(I^(N-i-1)))\n",
    "    return H\n",
    "\n",
    "def callback(nfev, parameters, energy, stddev):\n",
    "    \"\"\" \n",
    "    function that saves all variables generated during the VQE\n",
    "    \"\"\"\n",
    "    \n",
    "    intermediate_info['parameters'] = parameters\n",
    "    intermediate_info['nfev'] = nfev\n",
    "    intermediate_info['energy'] = energy\n",
    "\n",
    "    return None\n",
    "\n",
    "def GS(N,J):\n",
    "    \"\"\" \n",
    "    given N and J estimates parameters \n",
    "    needed by the ansatz circuit to give the Ground state \n",
    "    \"\"\"\n",
    "    \n",
    "    H = Hamiltonian(N,J)\n",
    "    ansatz = EfficientSU2(N, su2_gates=['ry'], reps=reps, entanglement='linear', insert_barriers=True)\n",
    "    np.random.seed(80)\n",
    "    initial_point = np.random.random(N*(reps+1))\n",
    "    local_vqe = VQE(ansatz=ansatz,\n",
    "                    optimizer=optimizer,\n",
    "                    initial_point=initial_point,\n",
    "                    quantum_instance=quantum_instance,\n",
    "                    callback=callback)\n",
    "    local_result = local_vqe.compute_minimum_eigenvalue(H)\n",
    "    par = intermediate_info['parameters']\n",
    "    \n",
    "    return par, local_result.eigenvalue"
   ]
  },
  {
   "cell_type": "code",
   "execution_count": 3,
   "metadata": {},
   "outputs": [],
   "source": [
    "# scegli intervallo in cui voi creare dataset e numero di punti\n",
    "#Js = np.linspace(1.4, 1.5, 15)\n",
    "#g = np.linspace(0.7, 0.8, 15)\n",
    "#Js = np.concatenate((g, Js))\n",
    "Js = np.linspace(0.25, 1.75, 20)\n",
    "#name of the training set\n",
    "delta = 1 \n",
    "\n",
    "for N in range(6,7):\n",
    "    f = open('dataset/data{N}_{delta}.txt','w')\n",
    "    #f = open(f'DATASET_D/D_{N}.txt','w')\n",
    "    for J in Js:\n",
    "        \n",
    "        par, E = GS(N,J)\n",
    "        f.write(str(round(J,4))+', ')\n",
    "        f.write(str(round(E.real,4))+', ')\n",
    "        for j in range(len(par)):\n",
    "            f.write(str(round(par[j],4))+', ')\n",
    "        f.write('\\n')\n",
    "\n",
    "f.close()\n"
   ]
  }
 ],
 "metadata": {
  "kernelspec": {
   "display_name": ".venv",
   "language": "python",
   "name": "python3"
  },
  "language_info": {
   "codemirror_mode": {
    "name": "ipython",
    "version": 3
   },
   "file_extension": ".py",
   "mimetype": "text/x-python",
   "name": "python",
   "nbconvert_exporter": "python",
   "pygments_lexer": "ipython3",
   "version": "3.9.1 (default, Nov  4 2022, 19:56:01) \n[GCC 7.5.0]"
  },
  "orig_nbformat": 4,
  "vscode": {
   "interpreter": {
    "hash": "4f19faae1b9193c89de7c89617d2e831e84b64583455c66df5be9fc9460c1c00"
   }
  }
 },
 "nbformat": 4,
 "nbformat_minor": 2
}
