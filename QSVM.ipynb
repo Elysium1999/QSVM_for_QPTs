{
 "cells": [
  {
   "cell_type": "code",
   "execution_count": 3,
   "metadata": {},
   "outputs": [],
   "source": [
    "import numpy as np\n",
    "\n",
    "#Quantum computing (qiskit package)\n",
    "from qiskit import QuantumCircuit, QuantumRegister, ClassicalRegister\n",
    "from qiskit import transpile\n",
    "from qiskit.circuit import Parameter\n",
    "from qiskit.providers.aer import AerSimulator\n",
    "\n",
    "#Machine learning (scikit-learn package)\n",
    "from sklearn import svm\n",
    "\n",
    "#root finding problem\n",
    "from scipy.optimize import root_scalar\n"
   ]
  },
  {
   "cell_type": "code",
   "execution_count": null,
   "metadata": {},
   "outputs": [],
   "source": [
    "def GroundState(N,J):\n",
    "    #Creating the Ground State Gate\n",
    "\n",
    "    qr_gs = QuantumRegister(N, name='q_U')\n",
    "    gate_gs = QuantumCircuit(qr_gs, name='GS_gate')\n",
    "\n",
    "    #list of parameters for the GS Gate (obtained from the VQE)\n",
    "    theta = Parameter('θ')\n",
    "    theta_range = np.linspace(0, 2*np.pi, 20)\n",
    "\n",
    "    #provisory gates (just to write something)\n",
    "    gate_gs.rz(theta, range(N))\n",
    "\n",
    "    #binding parameter from the list\n",
    "    gate_gs = gate_gs.bind_parameters({theta: theta_range[J]})\n",
    "    gate_gs_inst = gate_gs.to_instruction()\n",
    "\n",
    "    return gate_gs_inst"
   ]
  },
  {
   "cell_type": "code",
   "execution_count": null,
   "metadata": {},
   "outputs": [],
   "source": [
    "def GroundState_dag(N,J):\n",
    "    #Creating the conjugate transpose Ground State Gate \n",
    "\n",
    "    qr_gs_dag = QuantumRegister(N, name='q_U^dag')\n",
    "    gate_gs_dag = QuantumCircuit(qr_gs_dag, name='GS_Gate_dag')\n",
    "\n",
    "    #list of parameters for the GS Gate^dag (obtained from the VQE)\n",
    "    theta = Parameter('θ')\n",
    "    theta_range = np.linspace(0, 2*np.pi, 20)\n",
    "\n",
    "    #provisory gates (just to write something)\n",
    "    gate_gs_dag.rz(theta, range(N))\n",
    "\n",
    "    #binding parameter from the list\n",
    "    gate_gs_dag = gate_gs_dag.bind_parameters({theta: theta_range[J]})\n",
    "    gate_gs_dag_inst = gate_gs_dag.to_instruction()\n",
    "\n",
    "    return gate_gs_dag_inst"
   ]
  },
  {
   "cell_type": "code",
   "execution_count": null,
   "metadata": {},
   "outputs": [],
   "source": [
    "def QuantumKernel(N,i,j):\n",
    "    #Creating the Quantum-Kernel circuit\n",
    "\n",
    "    #Defining the register of the Quantum-Kernel circuit\n",
    "    qr = QuantumRegister(N, 'q')\n",
    "    cr = ClassicalRegister(N, 'c')\n",
    "    qc = QuantumCircuit(qr, cr)\n",
    "    \n",
    "    GSgate = GroundState(N,i)\n",
    "    GSgate_dag = GroundState_dag(N,j)\n",
    "    qc.append(GSgate, qr)\n",
    "    qc.append(GSgate_dag, qr)\n",
    "\n",
    "    qc.barrier()\n",
    "    qc.measure_all(add_bits=False)\n",
    "\n",
    "    return qc"
   ]
  },
  {
   "cell_type": "code",
   "execution_count": 9,
   "metadata": {},
   "outputs": [],
   "source": [
    "def distance(J, clf):\n",
    "    #distance of a point J from the hyperplane (boundary) defined via SVM\n",
    "\n",
    "    y = clf.decision_function(J)\n",
    "    w_norm = np.linalg.norm(clf.coef_)\n",
    "    dist = y / w_norm\n",
    "\n",
    "    return dist"
   ]
  },
  {
   "cell_type": "code",
   "execution_count": 8,
   "metadata": {},
   "outputs": [],
   "source": [
    "def critical_J(K):\n",
    "    #find the point J on the boundary of the classification defined by the SVM\n",
    "    \n",
    "    #optimize for the svm.SVC (see https://scikit-learn.org/stable/modules/svm.html)\n",
    "    delta1 = np.array(delta1, dtype=np.float64, order='C')\n",
    "\n",
    "    #SVM algorithm\n",
    "    clf = svm.SVC(kernel = 'precomputed')\n",
    "    clf.fit(K, delta1)\n",
    "    \n",
    "    #finding Jc = finding the root of the distance function\n",
    "    d = root_scalar(distance, clf, x0=0.2, x1=1.7) \n",
    "        \n",
    "    if not d.converged:\n",
    "        raise Exception(d.flag)\n",
    "    else:\n",
    "        return d.root\n",
    "    "
   ]
  },
  {
   "cell_type": "code",
   "execution_count": null,
   "metadata": {},
   "outputs": [],
   "source": [
    "def plot JvsN():"
   ]
  },
  {
   "cell_type": "code",
   "execution_count": null,
   "metadata": {},
   "outputs": [],
   "source": [
    "def plot Kmatrix():"
   ]
  },
  {
   "cell_type": "code",
   "execution_count": null,
   "metadata": {},
   "outputs": [],
   "source": [
    "#set the backend\n",
    "simulator = AerSimulator()\n",
    "\n",
    "#inizialize the intervals of J for the training of the SVM\n",
    "delta1 = [0.8 + x*0.002 for x in range(51)] + [1.2 + x*0.002 for x in range(51)]\n",
    "delta2 = [0.6 + x*0.002 for x in range(51)] + [1.6 + x*0.002 for x in range(51)]\n",
    "\n",
    "delta = delta1\n",
    "nshots = 1000\n",
    "Nmax = 1200\n",
    "jc = {}\n",
    "\n",
    "#N number of sites, i and j are the ground states for different J in H(J)\n",
    "for N in range (10,Nmax,50):\n",
    "    for i in range(len(delta)):\n",
    "        for j in range(i:len(delta)):\n",
    "            \n",
    "            if i == j:\n",
    "                K[i,i] = 1\n",
    "            else:\n",
    "                circuit = QuantumKernel(N,delta[i],delta[j])\n",
    "\n",
    "                #transpile, run the job and grab the results\n",
    "                compiled_circuit = transpile(circuit, simulator)\n",
    "                job = simulator.run(compiled_circuit, shots=nshots)\n",
    "                result = job.result()\n",
    "\n",
    "                #I'm interested only in the frequency of the all zeros - qbit output\n",
    "                counts = result.get_counts()\n",
    "                K[i,j] = counts[N*'0'] / nshots\n",
    "                K[j,i] = counts[N*'0'] / nshots\n",
    "\n",
    "    K = np.sqrt(K)\n",
    "    #call the SVM\n",
    "    jc['N'] = critical_J(K)"
   ]
  }
 ],
 "metadata": {
  "kernelspec": {
   "display_name": ".venv",
   "language": "python",
   "name": "python3"
  },
  "language_info": {
   "codemirror_mode": {
    "name": "ipython",
    "version": 3
   },
   "file_extension": ".py",
   "mimetype": "text/x-python",
   "name": "python",
   "nbconvert_exporter": "python",
   "pygments_lexer": "ipython3",
   "version": "3.9.1"
  },
  "orig_nbformat": 4,
  "vscode": {
   "interpreter": {
    "hash": "4f19faae1b9193c89de7c89617d2e831e84b64583455c66df5be9fc9460c1c00"
   }
  }
 },
 "nbformat": 4,
 "nbformat_minor": 2
}
